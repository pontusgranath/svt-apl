{
 "cells": [
  {
   "cell_type": "code",
   "execution_count": 8,
   "id": "theoretical-atlanta",
   "metadata": {},
   "outputs": [],
   "source": [
    "import pandas as pd"
   ]
  },
  {
   "cell_type": "code",
   "execution_count": 9,
   "id": "conscious-bundle",
   "metadata": {},
   "outputs": [],
   "source": [
    "df = pd.read_csv('Data-Table 1.csv', delimiter=\";\")"
   ]
  },
  {
   "cell_type": "code",
   "execution_count": 10,
   "id": "cellular-slave",
   "metadata": {},
   "outputs": [],
   "source": [
    "from sqlalchemy import create_engine"
   ]
  },
  {
   "cell_type": "code",
   "execution_count": 12,
   "id": "changing-example",
   "metadata": {},
   "outputs": [],
   "source": [
    "# This can be found on the URI field on the Heroku Database page\n",
    "engine = create_engine('postgresql://'+ config('DB_USER') +':'+ config('DB_PASSWORD') +'@'+ config('DB_HOST') +':5432/'+ config('DB_NAME') +'')"
   ]
  },
  {
   "cell_type": "code",
   "execution_count": 15,
   "id": "complimentary-newman",
   "metadata": {},
   "outputs": [],
   "source": [
    "df.to_sql(\"svt_statistics\", engine, if_exists='replace', index=False)"
   ]
  },
  {
   "cell_type": "code",
   "execution_count": null,
   "id": "proud-superior",
   "metadata": {},
   "outputs": [],
   "source": []
  }
 ],
 "metadata": {
  "kernelspec": {
   "display_name": "Python 3",
   "language": "python",
   "name": "python3"
  },
  "language_info": {
   "codemirror_mode": {
    "name": "ipython",
    "version": 3
   },
   "file_extension": ".py",
   "mimetype": "text/x-python",
   "name": "python",
   "nbconvert_exporter": "python",
   "pygments_lexer": "ipython3",
   "version": "3.8.5"
  }
 },
 "nbformat": 4,
 "nbformat_minor": 5
}
