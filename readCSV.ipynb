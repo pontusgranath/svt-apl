{
 "cells": [
  {
   "cell_type": "code",
   "execution_count": null,
   "id": "provincial-register",
   "metadata": {
    "scrolled": true
   },
   "outputs": [],
   "source": [
    "import pandas as pd\n",
    "\n",
    "pd.set_option('display.max_columns', None)\n",
    "pd.set_option('display.max_rows', None)"
   ]
  },
  {
   "cell_type": "code",
   "execution_count": null,
   "id": "underlying-reducing",
   "metadata": {
    "scrolled": true
   },
   "outputs": [],
   "source": [
    "data = pd.read_csv('Data-Table 1.csv', sep=';')"
   ]
  },
  {
   "cell_type": "code",
   "execution_count": null,
   "id": "third-reasoning",
   "metadata": {},
   "outputs": [],
   "source": [
    "data"
   ]
  },
  {
   "cell_type": "code",
   "execution_count": null,
   "id": "knowing-combat",
   "metadata": {},
   "outputs": [],
   "source": [
    "def distance(title, title2):\n",
    "    return 0"
   ]
  },
  {
   "cell_type": "code",
   "execution_count": null,
   "id": "eleven-former",
   "metadata": {},
   "outputs": [],
   "source": [
    "import seaborn as sns"
   ]
  },
  {
   "cell_type": "code",
   "execution_count": null,
   "id": "recognized-hotel",
   "metadata": {
    "scrolled": false
   },
   "outputs": [],
   "source": [
    "data.describe()"
   ]
  },
  {
   "cell_type": "code",
   "execution_count": null,
   "id": "pharmaceutical-brand",
   "metadata": {
    "scrolled": true
   },
   "outputs": [],
   "source": [
    "data = data.set_index(\"Client ID (ns_vid)\")"
   ]
  },
  {
   "cell_type": "code",
   "execution_count": null,
   "id": "induced-traffic",
   "metadata": {},
   "outputs": [],
   "source": [
    "s = data.sum()"
   ]
  },
  {
   "cell_type": "code",
   "execution_count": null,
   "id": "close-granny",
   "metadata": {},
   "outputs": [],
   "source": [
    "sns.histplot(s)"
   ]
  },
  {
   "cell_type": "code",
   "execution_count": null,
   "id": "laughing-celtic",
   "metadata": {},
   "outputs": [],
   "source": [
    "data"
   ]
  },
  {
   "cell_type": "code",
   "execution_count": null,
   "id": "turned-romantic",
   "metadata": {},
   "outputs": [],
   "source": [
    "data.diff()"
   ]
  },
  {
   "cell_type": "code",
   "execution_count": null,
   "id": "selective-microwave",
   "metadata": {},
   "outputs": [],
   "source": [
    "s"
   ]
  },
  {
   "cell_type": "code",
   "execution_count": null,
   "id": "guided-harrison",
   "metadata": {},
   "outputs": [],
   "source": [
    "import numpy as np"
   ]
  },
  {
   "cell_type": "code",
   "execution_count": null,
   "id": "persistent-account",
   "metadata": {},
   "outputs": [],
   "source": [
    "df1 = pd.DataFrame({'col1': ['Agenda', 'Aktuellt']})\n",
    "df2 = pd.DataFrame({'col2': ['Agenda', 'Aktuelt']})"
   ]
  },
  {
   "cell_type": "code",
   "execution_count": null,
   "id": "experimental-mercy",
   "metadata": {},
   "outputs": [],
   "source": [
    "c = pd.concat([df1, df2], axis=1)\n",
    "c['result'] = np.where(c['col1'] == c['col2'], 'no change', 'changed')\n",
    "print(c)"
   ]
  },
  {
   "cell_type": "code",
   "execution_count": null,
   "id": "focal-uganda",
   "metadata": {},
   "outputs": [],
   "source": []
  }
 ],
 "metadata": {
  "kernelspec": {
   "display_name": "Python 3",
   "language": "python",
   "name": "python3"
  },
  "language_info": {
   "codemirror_mode": {
    "name": "ipython",
    "version": 3
   },
   "file_extension": ".py",
   "mimetype": "text/x-python",
   "name": "python",
   "nbconvert_exporter": "python",
   "pygments_lexer": "ipython3",
   "version": "3.8.5"
  }
 },
 "nbformat": 4,
 "nbformat_minor": 5
}
