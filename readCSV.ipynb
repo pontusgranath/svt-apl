{
 "cells": [
  {
   "cell_type": "code",
   "execution_count": null,
   "id": "provincial-register",
   "metadata": {
    "scrolled": true
   },
   "outputs": [],
   "source": [
    "import pandas as pd\n",
    "import numpy as np\n",
    "import seaborn as sns\n",
    "from scipy.spatial.distance import pdist, squareform\n",
    "\n",
    "# pd.set_option('display.max_columns', None)\n",
    "# pd.set_option('display.max_rows', None)\n",
    "\n",
    "data = pd.read_csv('Data-Table 1.csv', sep=';')\n",
    "data.set_index('Client ID (ns_vid)', inplace=True)\n",
    "\n",
    "m = np.matrix(data)\n",
    "columns = list(data.columns)\n",
    "res = squareform(pdist(m, 'hamming'))"
   ]
  },
  {
   "cell_type": "code",
   "execution_count": null,
   "id": "pleased-composer",
   "metadata": {},
   "outputs": [],
   "source": [
    "data.columns"
   ]
  },
  {
   "cell_type": "code",
   "execution_count": null,
   "id": "fiscal-sherman",
   "metadata": {},
   "outputs": [],
   "source": [
    "def distance(t1, t2):\n",
    "    return res[columns.index(t1), columns.index(t2)]"
   ]
  },
  {
   "cell_type": "code",
   "execution_count": null,
   "id": "historic-logan",
   "metadata": {},
   "outputs": [],
   "source": [
    "search = 'McLeods döttrar'\n",
    "d = pd.DataFrame([(c, distance(search,c)) for c in columns], columns=['title', 'distance'])"
   ]
  },
  {
   "cell_type": "code",
   "execution_count": null,
   "id": "downtown-europe",
   "metadata": {},
   "outputs": [],
   "source": [
    "d.sort_values('distance')"
   ]
  },
  {
   "cell_type": "code",
   "execution_count": null,
   "id": "signed-floating",
   "metadata": {},
   "outputs": [],
   "source": []
  }
 ],
 "metadata": {
  "kernelspec": {
   "display_name": "Python 3",
   "language": "python",
   "name": "python3"
  },
  "language_info": {
   "codemirror_mode": {
    "name": "ipython",
    "version": 3
   },
   "file_extension": ".py",
   "mimetype": "text/x-python",
   "name": "python",
   "nbconvert_exporter": "python",
   "pygments_lexer": "ipython3",
   "version": "3.8.5"
  }
 },
 "nbformat": 4,
 "nbformat_minor": 5
}
