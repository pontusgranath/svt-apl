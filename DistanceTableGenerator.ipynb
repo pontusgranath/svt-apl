{
 "cells": [
  {
   "cell_type": "code",
   "execution_count": null,
   "id": "specific-expert",
   "metadata": {},
   "outputs": [],
   "source": [
    "import pandas as pd\n",
    "import numpy as np\n",
    "from scipy.spatial.distance import pdist, squareform\n",
    "from sqlalchemy import create_engine\n",
    "from decouple import config\n",
    "\n",
    "con = create_engine('postgresql://'+ config('DB_USER') +':'+ config('DB_PASSWORD') +'@'+ config('DB_HOST') +':5432/'+ config('DB_NAME') +'')\n",
    "data = pd.read_sql('SELECT * FROM svt_statistics', con)\n",
    "data.set_index('Client ID (ns_vid)', inplace=True)\n",
    "\n",
    "m = np.matrix(data)\n",
    "titles = list(data.columns)\n",
    "res = squareform(pdist(m, 'hamming'))\n",
    "\n",
    "def distance(t1, t2):\n",
    "    return res[titles.index(t1), titles.index(t2)]\n",
    "\n",
    "distance_data = pd.DataFrame(index=titles)\n",
    "\n",
    "for column in titles:\n",
    "    \n",
    "    search = column\n",
    "    dataframe = pd.DataFrame([(c, distance(search, c)) for c in titles], columns=['title', 'distance'])\n",
    "    dataframe = pd.DataFrame([(c, distance(search, c)) for c in titles], columns=['title', 'distance'])\n",
    "    list_of_titles = dataframe.values.tolist()\n",
    "\n",
    "    i = 0\n",
    "    for item in list_of_titles:\n",
    "        list_of_titles[i] = item[1]\n",
    "        i += 1\n",
    "\n",
    "\n",
    "    distance_data[search] = list_of_titles"
   ]
  },
  {
   "cell_type": "code",
   "execution_count": null,
   "id": "herbal-classics",
   "metadata": {},
   "outputs": [],
   "source": [
    "pd.set_option('display.max_columns', None)\n",
    "pd.set_option('display.max_rows', None)\n",
    "\n",
    "distance_data"
   ]
  },
  {
   "cell_type": "code",
   "execution_count": null,
   "id": "limited-popularity",
   "metadata": {
    "scrolled": true
   },
   "outputs": [],
   "source": [
    "distance_data.to_sql(\"distance_table\", con, if_exists='replace', index=titles)"
   ]
  },
  {
   "cell_type": "code",
   "execution_count": null,
   "id": "adjusted-access",
   "metadata": {},
   "outputs": [],
   "source": []
  }
 ],
 "metadata": {
  "kernelspec": {
   "display_name": "Python 3",
   "language": "python",
   "name": "python3"
  },
  "language_info": {
   "codemirror_mode": {
    "name": "ipython",
    "version": 3
   },
   "file_extension": ".py",
   "mimetype": "text/x-python",
   "name": "python",
   "nbconvert_exporter": "python",
   "pygments_lexer": "ipython3",
   "version": "3.8.5"
  }
 },
 "nbformat": 4,
 "nbformat_minor": 5
}
